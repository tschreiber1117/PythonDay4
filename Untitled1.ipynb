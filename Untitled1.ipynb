{
 "cells": [
  {
   "cell_type": "code",
   "execution_count": 1,
   "id": "5c77dcff",
   "metadata": {},
   "outputs": [],
   "source": [
    "# write a funtion named hiShoha that takes in two integers as an input\n",
    "def hiShoha(int1, int2):\n",
    "    return"
   ]
  },
  {
   "cell_type": "code",
   "execution_count": null,
   "id": "496a49bc",
   "metadata": {},
   "outputs": [],
   "source": [
    "def hiSam(int1, int2)\n",
    "    return"
   ]
  },
  {
   "cell_type": "code",
   "execution_count": null,
   "id": "1c17b7d0",
   "metadata": {},
   "outputs": [],
   "source": [
    "def testFunc(int1, str1, int2):\n",
    "    return"
   ]
  },
  {
   "cell_type": "code",
   "execution_count": null,
   "id": "798c664a",
   "metadata": {},
   "outputs": [],
   "source": [
    "def hiEmily(list1, list2):\n",
    "    return"
   ]
  },
  {
   "cell_type": "code",
   "execution_count": 4,
   "id": "15e14cdf",
   "metadata": {},
   "outputs": [],
   "source": [
    "# 1) Write a function named pushToEnd that takes in a list and an integer as an input\n",
    "def push_to_end (list1, int1):\n",
    "    list1.append(int1)\n",
    "    return list1\n",
    "\n",
    "\n",
    "\n",
    "# 2) Append the integer to the end of the list and return the list\n"
   ]
  },
  {
   "cell_type": "code",
   "execution_count": 10,
   "id": "ed5dff00",
   "metadata": {},
   "outputs": [],
   "source": [
    "out1 = push_to_end ([1,2,3], 4)"
   ]
  },
  {
   "cell_type": "code",
   "execution_count": 11,
   "id": "a0cfed49",
   "metadata": {},
   "outputs": [],
   "source": [
    "out2 = push_to_end([4,3,2], 1)"
   ]
  },
  {
   "cell_type": "code",
   "execution_count": 12,
   "id": "881b104f",
   "metadata": {},
   "outputs": [
    {
     "data": {
      "text/plain": [
       "[1, 2, 3, 4]"
      ]
     },
     "execution_count": 12,
     "metadata": {},
     "output_type": "execute_result"
    }
   ],
   "source": [
    "out1"
   ]
  },
  {
   "cell_type": "code",
   "execution_count": 13,
   "id": "21e275b6",
   "metadata": {},
   "outputs": [],
   "source": [
    "# 1) Write a function called  stringConcat that takes in 3 strings as inputs\n",
    "def stringConcat(str1, str2, str3):\n",
    "    newstrings = str1+str2+str3\n",
    "    return newstrings\n",
    "\n",
    "\n",
    "# 2) concatenate all the strings together and return the new string\n"
   ]
  },
  {
   "cell_type": "code",
   "execution_count": 15,
   "id": "4b56fe15",
   "metadata": {},
   "outputs": [],
   "source": [
    "def hiShoha (list1,list2):\n",
    "    for item in list1:\n",
    "        print (item)\n",
    "    for item in list2:\n",
    "        print (item)\n",
    "    return"
   ]
  },
  {
   "cell_type": "code",
   "execution_count": 16,
   "id": "f3025009",
   "metadata": {},
   "outputs": [
    {
     "name": "stdout",
     "output_type": "stream",
     "text": [
      "1\n",
      "2\n",
      "3\n",
      "4\n"
     ]
    }
   ],
   "source": [
    "l_1 = [1, 2]\n",
    "l_2 = [3, 4]\n",
    "hiShoha(l_1, l_2)"
   ]
  },
  {
   "cell_type": "code",
   "execution_count": 17,
   "id": "a0005c28",
   "metadata": {},
   "outputs": [],
   "source": [
    "def max_diff(list1):\n",
    "    hi = max(list1)\n",
    "    lo = min(list1)\n",
    "    \n",
    "    return hi - lo "
   ]
  },
  {
   "cell_type": "code",
   "execution_count": 18,
   "id": "8862359b",
   "metadata": {},
   "outputs": [
    {
     "data": {
      "text/plain": [
       "4"
      ]
     },
     "execution_count": 18,
     "metadata": {},
     "output_type": "execute_result"
    }
   ],
   "source": [
    "list1 = [1, 2, 3, 4, 5]\n",
    "max_diff(list1)"
   ]
  },
  {
   "cell_type": "code",
   "execution_count": 19,
   "id": "10ec74dd",
   "metadata": {},
   "outputs": [
    {
     "data": {
      "text/plain": [
       "6"
      ]
     },
     "execution_count": 19,
     "metadata": {},
     "output_type": "execute_result"
    }
   ],
   "source": [
    "list2 = [5, 4, 3, 2, 1, -1]\n",
    "max_diff(list2)"
   ]
  },
  {
   "cell_type": "code",
   "execution_count": null,
   "id": "88a87682",
   "metadata": {},
   "outputs": [],
   "source": [
    "In this little assignment you are given a list of numbers, and \n",
    "have to return the highest and lowest number in a string\n",
    "separated by a single space.\n",
    "\n",
    "Example:\n",
    "high_and_low([1, 2, 3, 4, 5])  # return \"5 1\"\n",
    "high_and_low([1, 2, -3, 4, 5]) # return \"5 -3\"\n",
    "high_and_low([1, 9, 3, 4, -5) # return \"9 -5\"\n",
    "\n",
    "All numbers are valid Int32, no need to validate them.\n",
    "There will always be at least one number in the input string.\n",
    "Output string must be two numbers separated by a single space, and highest number is first.\n"
   ]
  },
  {
   "cell_type": "code",
   "execution_count": 29,
   "id": "0dfb5827",
   "metadata": {},
   "outputs": [],
   "source": [
    "def highandlow(list1):\n",
    "    hi = max(list1)\n",
    "    lo = min(list1)\n",
    "        \n",
    "    return str(hi) +\" \"+ str(lo)"
   ]
  },
  {
   "cell_type": "code",
   "execution_count": null,
   "id": "85b45c60",
   "metadata": {},
   "outputs": [],
   "source": []
  },
  {
   "cell_type": "code",
   "execution_count": 30,
   "id": "d3830fe0",
   "metadata": {},
   "outputs": [],
   "source": [
    "l_1 = [1, 2, 3, 4, 5]"
   ]
  },
  {
   "cell_type": "code",
   "execution_count": 31,
   "id": "3bef4559",
   "metadata": {},
   "outputs": [
    {
     "data": {
      "text/plain": [
       "'5 1'"
      ]
     },
     "execution_count": 31,
     "metadata": {},
     "output_type": "execute_result"
    }
   ],
   "source": [
    "highandlow(l_1)"
   ]
  },
  {
   "cell_type": "code",
   "execution_count": 34,
   "id": "ff2d5d17",
   "metadata": {},
   "outputs": [],
   "source": [
    "def aaronforloop(list1,int1):\n",
    "    for num in list1:\n",
    "        print(num)\n",
    "        if num is int1:\n",
    "            return\n",
    "\n"
   ]
  },
  {
   "cell_type": "code",
   "execution_count": 36,
   "id": "a2f00366",
   "metadata": {},
   "outputs": [
    {
     "name": "stdout",
     "output_type": "stream",
     "text": [
      "1\n",
      "2\n",
      "3\n"
     ]
    }
   ],
   "source": [
    "l_1 = (1, 2, 3, 4, 5)\n",
    "tar1 = 3\n",
    "aaronforloop(l_1, 3)"
   ]
  }
 ],
 "metadata": {
  "kernelspec": {
   "display_name": "Python 3",
   "language": "python",
   "name": "python3"
  },
  "language_info": {
   "codemirror_mode": {
    "name": "ipython",
    "version": 3
   },
   "file_extension": ".py",
   "mimetype": "text/x-python",
   "name": "python",
   "nbconvert_exporter": "python",
   "pygments_lexer": "ipython3",
   "version": "3.8.8"
  }
 },
 "nbformat": 4,
 "nbformat_minor": 5
}
