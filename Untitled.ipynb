{
 "cells": [
  {
   "cell_type": "code",
   "execution_count": 2,
   "id": "5bde7f22",
   "metadata": {},
   "outputs": [],
   "source": [
    "#In this little assignment you are given a list of numbers, and have to return the highest and lowest number in a string spearated by a single space.\n",
    "#Example:\n",
    "#high_and_low([1, 2, 3, 4, 5])  # return \"5 1\"\n",
    "#high_and_low([1, 2, -3, 4, 5]) # return \"5 -3\"\n",
    "#high_and_low([1, 9, 3, 4, -5) # return \"9 -5\"\n",
    "#All numbers are valid Int32, no need to validate them.\n",
    "#There will always be at least one number in the input string.\n",
    "#Output string must be two numbers separated by a single space, and highest number is first."
   ]
  },
  {
   "cell_type": "code",
   "execution_count": 13,
   "id": "ca1c9006",
   "metadata": {
    "scrolled": true
   },
   "outputs": [
    {
     "data": {
      "text/plain": [
       "'9 -5'"
      ]
     },
     "execution_count": 13,
     "metadata": {},
     "output_type": "execute_result"
    }
   ],
   "source": [
    "def hllist(a_list):\n",
    "    a=max(a_list)\n",
    "    b=min(a_list)\n",
    "    #print (max(a_list)) \n",
    "    #print (min(a_list))\n",
    "    return str(a) + \" \" + str(b)\n",
    "    \n",
    "hllist([1,9,3,4,-5])"
   ]
  }
 ],
 "metadata": {
  "kernelspec": {
   "display_name": "Python 3",
   "language": "python",
   "name": "python3"
  },
  "language_info": {
   "codemirror_mode": {
    "name": "ipython",
    "version": 3
   },
   "file_extension": ".py",
   "mimetype": "text/x-python",
   "name": "python",
   "nbconvert_exporter": "python",
   "pygments_lexer": "ipython3",
   "version": "3.8.8"
  }
 },
 "nbformat": 4,
 "nbformat_minor": 5
}
