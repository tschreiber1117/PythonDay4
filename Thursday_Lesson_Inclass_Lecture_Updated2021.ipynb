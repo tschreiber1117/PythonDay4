{
 "cells": [
  {
   "cell_type": "markdown",
   "metadata": {},
   "source": [
    "# Object-Oriented-Programming (OOP)"
   ]
  },
  {
   "cell_type": "code",
   "execution_count": null,
   "metadata": {},
   "outputs": [],
   "source": [
    "# OOP is a coding paradigm - a style of structuring code\n",
    "# The theory of OOP is tha tif we split our things in our code into objects and our processes in our code into functions\n",
    "# And we make those objects and functions reusable\n",
    "# Then we can make complicated code far simpler to read and write"
   ]
  },
  {
   "cell_type": "markdown",
   "metadata": {},
   "source": [
    "## Tasks Today:\n",
    "\n",
    "<b>Bonus Topics</b>\n",
    "<br>\n",
    "    \n",
    "\n",
    "1) <b>Creating a Class (Initializing/Declaring)</b> <br>\n",
    "2) <b>Using a Class (Instantiating)</b> <br>\n",
    " &nbsp;&nbsp;&nbsp;&nbsp; a) Creating One Instance <br>\n",
    " &nbsp;&nbsp;&nbsp;&nbsp; b) Creating Multiple Instances <br>\n",
    " &nbsp;&nbsp;&nbsp;&nbsp; c) In-Class Exercise #1 - Create a Class 'Car' and instantiate three different makes of cars <br>\n",
    "3) <b>The \\__init\\__() Method</b> <br>\n",
    " &nbsp;&nbsp;&nbsp;&nbsp; a) The 'self' Attribute <br>\n",
    "4) <b>Class Attributes</b> <br>\n",
    " &nbsp;&nbsp;&nbsp;&nbsp; a) Initializing Attributes <br>\n",
    " &nbsp;&nbsp;&nbsp;&nbsp; b) Setting an Attribute Outside of the \\__init\\__() Method <br>\n",
    " &nbsp;&nbsp;&nbsp;&nbsp; c) Setting Defaults for Attributes <br>\n",
    " &nbsp;&nbsp;&nbsp;&nbsp; d) Accessing Class Attributes <br>\n",
    " &nbsp;&nbsp;&nbsp;&nbsp; e) Changing Class Attributes <br>\n",
    " &nbsp;&nbsp;&nbsp;&nbsp; f) In-Class Exercise #2 - Add a color and wheels attribute to your 'Car' class <br>\n",
    "5) <b>Class Methods</b> <br>\n",
    " &nbsp;&nbsp;&nbsp;&nbsp; a) Creating <br>\n",
    " &nbsp;&nbsp;&nbsp;&nbsp; b) Calling <br>\n",
    " &nbsp;&nbsp;&nbsp;&nbsp; c) Modifying an Attribute's Value Through a Method <br>\n",
    " &nbsp;&nbsp;&nbsp;&nbsp; d) Incrementing an Attribute's Value Through a Method <br>\n",
    " &nbsp;&nbsp;&nbsp;&nbsp; e) In-Class Exercise #3 - Add a method that prints the cars color and wheel number, then call them <br>\n",
    "6) <b>Inheritance</b> <br>\n",
    " &nbsp;&nbsp;&nbsp;&nbsp; a) Syntax for Inheriting from a Parent Class <br>\n",
    " &nbsp;&nbsp;&nbsp;&nbsp; b) The \\__init\\__() Method for a Child Class (super()) <br>\n",
    " &nbsp;&nbsp;&nbsp;&nbsp; c) Defining Attributes and Methods for the Child Class <br>\n",
    " &nbsp;&nbsp;&nbsp;&nbsp; d) Method Overriding <br>\n",
    " &nbsp;&nbsp;&nbsp;&nbsp; e) In-Class Exercise #4 - Create a class 'Ford' that inherits from 'Car' class and initialize it as a Blue Ford Explorer with 4 wheels using the super() method <br>\n",
    "7) <b>Classes as Attributes</b> <br>\n",
    "8) <b>Exercises</b> <br>\n",
    " &nbsp;&nbsp;&nbsp;&nbsp; a) Exercise #1 - Turn the shopping cart program from yesterday into an object-oriented program <br>"
   ]
  },
  {
   "cell_type": "code",
   "execution_count": null,
   "metadata": {},
   "outputs": [],
   "source": []
  },
  {
   "cell_type": "code",
   "execution_count": null,
   "metadata": {},
   "outputs": [],
   "source": []
  },
  {
   "cell_type": "markdown",
   "metadata": {},
   "source": [
    "## Creating a Class (Initializing/Declaring)\n",
    "<p>When creating a class, function, or even a variable you are initializing that object. Initializing and Declaring occur at the same time in Python, whereas in lower level languages you have to declare an object before initializing it. This is the first step in the process of using a class.</p>"
   ]
  },
  {
   "cell_type": "code",
   "execution_count": 62,
   "metadata": {},
   "outputs": [
    {
     "name": "stdout",
     "output_type": "stream",
     "text": [
      "Help on class Dog in module __main__:\n",
      "\n",
      "class Dog(builtins.object)\n",
      " |  Data descriptors defined here:\n",
      " |  \n",
      " |  __dict__\n",
      " |      dictionary for instance variables (if defined)\n",
      " |  \n",
      " |  __weakref__\n",
      " |      list of weak references to the object (if defined)\n",
      " |  \n",
      " |  ----------------------------------------------------------------------\n",
      " |  Data and other attributes defined here:\n",
      " |  \n",
      " |  breed = 'Samoyed'\n",
      " |  \n",
      " |  legs = 4\n",
      " |  \n",
      " |  tail = True\n",
      "\n"
     ]
    }
   ],
   "source": [
    "class Dog:\n",
    "    # constant/predefined attributes (you shouldn't use these much)\n",
    "    breed = 'Samoyed'\n",
    "    legs = 4\n",
    "    tail = True\n",
    "\n",
    "help(Dog)"
   ]
  },
  {
   "cell_type": "code",
   "execution_count": 63,
   "metadata": {},
   "outputs": [],
   "source": [
    "# just like our function definition doesn't do anything on its own\n",
    "def func():\n",
    "    print('I do something')"
   ]
  },
  {
   "cell_type": "code",
   "execution_count": 64,
   "metadata": {},
   "outputs": [
    {
     "name": "stdout",
     "output_type": "stream",
     "text": [
      "I do something\n"
     ]
    }
   ],
   "source": [
    "# until we CALL the function\n",
    "func()"
   ]
  },
  {
   "cell_type": "markdown",
   "metadata": {},
   "source": [
    "## Using a Class (Instantiating)\n",
    "<p>The process of creating a class is called <i>Instantiating</i>. Each time you create a variable of that type of class, it is referred to as an <i>Instance</i> of that class. This is the second step in the process of using a class.</p>"
   ]
  },
  {
   "cell_type": "markdown",
   "metadata": {},
   "source": [
    "##### Creating One Instance"
   ]
  },
  {
   "cell_type": "code",
   "execution_count": 11,
   "metadata": {},
   "outputs": [
    {
     "name": "stdout",
     "output_type": "stream",
     "text": [
      "<__main__.Dog object at 0x0D979388>\n"
     ]
    },
    {
     "data": {
      "text/plain": [
       "'Samoyed'"
      ]
     },
     "execution_count": 11,
     "metadata": {},
     "output_type": "execute_result"
    }
   ],
   "source": [
    "# variable_name = class_name()\n",
    "glacier = Dog()\n",
    "print(glacier)\n",
    "# accessing an attribute\n",
    "# instance_name.attribute_name\n",
    "glacier.breed"
   ]
  },
  {
   "cell_type": "markdown",
   "metadata": {},
   "source": [
    "##### Creating Multiple Instances"
   ]
  },
  {
   "cell_type": "code",
   "execution_count": 12,
   "metadata": {},
   "outputs": [
    {
     "name": "stdout",
     "output_type": "stream",
     "text": [
      "True\n",
      "4\n",
      "True\n",
      "\n",
      "\n",
      "Samoyed\n",
      "Husky\n",
      "Samoyed / Husky / English Springer Spaniel / human\n"
     ]
    },
    {
     "ename": "NameError",
     "evalue": "name 'Car' is not defined",
     "output_type": "error",
     "traceback": [
      "\u001b[1;31m---------------------------------------------------------------------------\u001b[0m",
      "\u001b[1;31mNameError\u001b[0m                                 Traceback (most recent call last)",
      "\u001b[1;32m<ipython-input-12-99dcf7435a71>\u001b[0m in \u001b[0;36m<module>\u001b[1;34m\u001b[0m\n\u001b[0;32m     21\u001b[0m \u001b[1;33m\u001b[0m\u001b[0m\n\u001b[0;32m     22\u001b[0m \u001b[1;33m\u001b[0m\u001b[0m\n\u001b[1;32m---> 23\u001b[1;33m \u001b[0mchevy\u001b[0m \u001b[1;33m=\u001b[0m \u001b[0mCar\u001b[0m\u001b[1;33m(\u001b[0m\u001b[1;33m)\u001b[0m\u001b[1;33m\u001b[0m\u001b[1;33m\u001b[0m\u001b[0m\n\u001b[0m\u001b[0;32m     24\u001b[0m \u001b[0mhonda\u001b[0m \u001b[1;33m=\u001b[0m \u001b[0mCar\u001b[0m\u001b[1;33m(\u001b[0m\u001b[1;33m)\u001b[0m\u001b[1;33m\u001b[0m\u001b[1;33m\u001b[0m\u001b[0m\n\u001b[0;32m     25\u001b[0m \u001b[0mporsche\u001b[0m \u001b[1;33m=\u001b[0m \u001b[0mCar\u001b[0m\u001b[1;33m(\u001b[0m\u001b[1;33m)\u001b[0m\u001b[1;33m\u001b[0m\u001b[1;33m\u001b[0m\u001b[0m\n",
      "\u001b[1;31mNameError\u001b[0m: name 'Car' is not defined"
     ]
    }
   ],
   "source": [
    "nanuk = Dog()\n",
    "wesley = Dog()\n",
    "james = Dog()\n",
    "print(nanuk.tail)\n",
    "print(wesley.legs)\n",
    "print(james.tail)\n",
    "print('\\n')\n",
    "# nanuk isn't a samoyed...let's change his breed\n",
    "print(nanuk.breed)\n",
    "# same way that we would reassign any variable\n",
    "nanuk.breed = 'Husky'\n",
    "print(nanuk.breed)\n",
    "\n",
    "wesley.breed = 'English Springer Spaniel'\n",
    "james.breed = 'human'\n",
    "\n",
    "print(glacier.breed, \"/\", nanuk.breed, \"/\", wesley.breed, \"/\", james.breed)\n",
    "\n",
    "\n",
    "\n",
    "\n",
    "\n",
    "chevy = Car()\n",
    "honda = Car()\n",
    "porsche = Car()\n",
    "\n",
    "porsche.color"
   ]
  },
  {
   "cell_type": "markdown",
   "metadata": {},
   "source": [
    "##### In-Class Exercise #1 - Create a Class named 'Car' and Instantiate three different makes of cars (Create 3 different instances of the Car class)"
   ]
  },
  {
   "cell_type": "code",
   "execution_count": 16,
   "metadata": {},
   "outputs": [
    {
     "name": "stdout",
     "output_type": "stream",
     "text": [
      "<__main__.Car object at 0x075E0460> is a 2021 red Ferrari Enzo\n",
      "<__main__.Car object at 0x075E04A8> is a whatever white Chevy Corvette\n",
      "<__main__.Car object at 0x075E0508> is a whatever matte grey Lamborghini Aventador\n"
     ]
    }
   ],
   "source": [
    "# Add doors, a new color, wheels, and a sunRoof\n",
    "\n",
    "class Car:\n",
    "    wheels = 4\n",
    "    doors = 2\n",
    "    sunroof = True\n",
    "    make = 'Ford'\n",
    "    model = 'yes'\n",
    "    color = 'black'\n",
    "    year = 'whatever'\n",
    "    \n",
    "#instances\n",
    "\n",
    "ferrari = Car()\n",
    "ferrari.make = 'Ferrari'\n",
    "ferrari.model = 'Enzo'\n",
    "ferrari.color = 'red'\n",
    "ferrari.wheels = 4\n",
    "ferrari.year = 2021\n",
    "print(f'{ferrari} is a {ferrari.year} {ferrari.color} {ferrari.make} {ferrari.model}')\n",
    "\n",
    "chevy = Car()\n",
    "chevy.make = 'Chevy'\n",
    "chevy.model = 'Corvette'\n",
    "chevy.color = 'white'\n",
    "doors = 2\n",
    "print(f'{chevy} is a {chevy.year} {chevy.color} {chevy.make} {chevy.model}')\n",
    "\n",
    "\n",
    "lamborghini = Car()\n",
    "lamborghini.make = 'Lamborghini'\n",
    "lamborghini.model = 'Aventador'\n",
    "lamborghini.color = 'matte grey'\n",
    "print(f'{lamborghini} is a {lamborghini.year} {lamborghini.color} {lamborghini.make} {lamborghini.model}')\n",
    "\n",
    "\n",
    "\n",
    "\n"
   ]
  },
  {
   "cell_type": "markdown",
   "metadata": {},
   "source": [
    "## The \\__init\\__() Method <br>\n",
    "<p>This method is used in almost every created class, and called only once upon the creation of the class instance. This method will initialize all variables needed for the object.</p>"
   ]
  },
  {
   "cell_type": "code",
   "execution_count": 16,
   "metadata": {},
   "outputs": [
    {
     "name": "stdout",
     "output_type": "stream",
     "text": [
      "4\n"
     ]
    }
   ],
   "source": [
    "# init = initializing\n",
    "# just like in a function\n",
    "# we can allow data to be passed in through parameters\n",
    "def func(parameter1, parameter2):\n",
    "    # oh cool now I have data I can use\n",
    "    new_thing = parameter+parameter2\n",
    "\n",
    "\n",
    "\n",
    "\n",
    "class Car():\n",
    "    engine = \"4.7L\" # constant\n",
    "    \n",
    "    # Create the Constructor AKA the __init__ method\n",
    "    def __init__(Car,wheels):\n",
    "        Car.wheels = wheels\n",
    "        \n",
    "ford = Car(4)\n",
    "print(ford.wheels)"
   ]
  },
  {
   "cell_type": "code",
   "execution_count": 20,
   "metadata": {},
   "outputs": [
    {
     "name": "stdout",
     "output_type": "stream",
     "text": [
      "<__main__.Dog object at 0x0D979370>\n",
      "Paisley\n"
     ]
    },
    {
     "data": {
      "text/plain": [
       "{'breed': 'mutt but cute', 'tail': True, 'legs': 4, 'name': 'Paisley'}"
      ]
     },
     "execution_count": 20,
     "metadata": {},
     "output_type": "execute_result"
    }
   ],
   "source": [
    "class Dog:\n",
    "    def __init__(Dog, breed, tail, legs, name):\n",
    "        Dog.breed = breed\n",
    "        Dog.tail = tail\n",
    "        Dog.legs = legs\n",
    "        Dog.name = name\n",
    "\n",
    "# when we create an instance of a dog - we have to give information about how that dog looks/is/behaves\n",
    "# aka we need to give its attributes values\n",
    "paisley = Dog(breed= 'mutt but cute', tail=True, legs=4, name='Paisley')\n",
    "\n",
    "print(paisley)\n",
    "print(paisley.name)\n",
    "\n",
    "# if you want to see all attributes of an instance of the class\n",
    "# you can use the instance.__dict__attribut that is built into every class (if you used the __init__ method)\n",
    "paisley.__dict__\n"
   ]
  },
  {
   "cell_type": "markdown",
   "metadata": {},
   "source": [
    "##### The 'self' Attribute <br>\n",
    "<p>This attribute is required to keep track of specific instance's attributes. Without the self attribute, the program would not know how to reference or keep track of an instance's attributes.</p>"
   ]
  },
  {
   "cell_type": "code",
   "execution_count": 26,
   "metadata": {},
   "outputs": [
    {
     "name": "stdout",
     "output_type": "stream",
     "text": [
      "<__main__.Dog object at 0x075E0418>\n",
      "Paisley\n"
     ]
    },
    {
     "data": {
      "text/plain": [
       "{'breed': 'mutt but cute', 'tail': True, 'legs': 4, 'name': 'Paisley'}"
      ]
     },
     "execution_count": 26,
     "metadata": {},
     "output_type": "execute_result"
    }
   ],
   "source": [
    "# proper/most common/best practice format for initializing a class then instantiating one instance of the class\n",
    "class Dog:\n",
    "    def __init__(self, breed, tail, legs, name):\n",
    "        self.breed = breed\n",
    "        self.tail = tail\n",
    "        self.legs = legs\n",
    "        self.name = name\n",
    "\n",
    "# when we create an instance of a dog - we have to give information about how that dog looks/is/behaves\n",
    "# aka we need to give its attributes values\n",
    "paisley = Dog(breed= 'mutt but cute', tail=True, legs=4, name='Paisley')\n",
    "\n",
    "print(paisley)\n",
    "print(paisley.name)\n",
    "\n",
    "# if you want to see all attributes of an instance of the class\n",
    "# you can use the instance.__dict__attribute that is built into every class (if you used the __init__ method)\n",
    "paisley.__dict__\n",
    "\n",
    "\n",
    "\n",
    "\n"
   ]
  },
  {
   "cell_type": "code",
   "execution_count": 25,
   "metadata": {},
   "outputs": [
    {
     "name": "stdout",
     "output_type": "stream",
     "text": [
      "<__main__.Dog object at 0x0D979B98>\n",
      "Paisley\n"
     ]
    },
    {
     "data": {
      "text/plain": [
       "{'breed': 'mutt but cute', 'tail': True, 'legs': 4, 'name': 'Paisley'}"
      ]
     },
     "execution_count": 25,
     "metadata": {},
     "output_type": "execute_result"
    }
   ],
   "source": [
    "class Dog:\n",
    "    def __init__(self, b, t, l, n):\n",
    "        self.breed = b\n",
    "        self.tail = t\n",
    "        self.legs = l\n",
    "        self.name = n\n",
    "\n",
    "# when we create an instance of a dog - we have to give information about how that dog looks/is/behaves\n",
    "# aka we need to give its attributes values\n",
    "paisley = Dog(b= 'mutt but cute', t=True, l=4, n='Paisley')\n",
    "\n",
    "print(paisley)\n",
    "# accessing the name attribute of the paisley instance of the dog class\n",
    "print(paisley.name)\n",
    "\n",
    "# if you want to see all attributes of an instance of the class\n",
    "# you can use the instance.__dict__attribut that is built into every class (if you used the __init__ method)\n",
    "paisley.__dict__\n"
   ]
  },
  {
   "cell_type": "markdown",
   "metadata": {},
   "source": [
    "## Class Attributes <br>\n",
    "<p>While variables are inside of a class, they are referred to as attributes and not variables. When someone says 'attribute' you know they're speaking about a class. Attributes can be initialized through the init method, or outside of it.</p>"
   ]
  },
  {
   "cell_type": "markdown",
   "metadata": {},
   "source": [
    "##### Initializing Attributes"
   ]
  },
  {
   "cell_type": "code",
   "execution_count": 18,
   "metadata": {},
   "outputs": [
    {
     "name": "stdout",
     "output_type": "stream",
     "text": [
      "<class 'int'>\n"
     ]
    }
   ],
   "source": [
    "# see above\n",
    "\n",
    "class Toy():\n",
    "    kind = \"Car\" # Constant -DOES NOT CHANGE\n",
    "    \n",
    "    def __init__(self,rooftop,horn,wheels):\n",
    "        self.rooftop = rooftop\n",
    "        self.horn = horn\n",
    "        self.wheels = wheels\n",
    "        \n",
    "tanka_truck = Toy(1,1,4) # 1 rooftop, 1 horn, 4 wheels\n",
    "hotwheels_car = Toy(2,3,8)\n",
    "print(type(tanka_truck.wheels))"
   ]
  },
  {
   "cell_type": "markdown",
   "metadata": {},
   "source": [
    "##### Accessing Class Attributes"
   ]
  },
  {
   "cell_type": "code",
   "execution_count": null,
   "metadata": {
    "scrolled": true
   },
   "outputs": [],
   "source": [
    "# See Above"
   ]
  },
  {
   "cell_type": "markdown",
   "metadata": {},
   "source": [
    "##### Setting Defaults for Attributes"
   ]
  },
  {
   "cell_type": "code",
   "execution_count": 24,
   "metadata": {},
   "outputs": [
    {
     "ename": "NameError",
     "evalue": "name 'Paisley' is not defined",
     "output_type": "error",
     "traceback": [
      "\u001b[1;31m---------------------------------------------------------------------------\u001b[0m",
      "\u001b[1;31mNameError\u001b[0m                                 Traceback (most recent call last)",
      "\u001b[1;32m<ipython-input-24-05a123097291>\u001b[0m in \u001b[0;36m<module>\u001b[1;34m\u001b[0m\n\u001b[0;32m      8\u001b[0m         \u001b[0mself\u001b[0m\u001b[1;33m.\u001b[0m\u001b[0mname\u001b[0m \u001b[1;33m=\u001b[0m \u001b[0mname\u001b[0m\u001b[1;33m\u001b[0m\u001b[1;33m\u001b[0m\u001b[0m\n\u001b[0;32m      9\u001b[0m \u001b[1;33m\u001b[0m\u001b[0m\n\u001b[1;32m---> 10\u001b[1;33m \u001b[0mpaisley\u001b[0m \u001b[1;33m=\u001b[0m \u001b[0mDog\u001b[0m\u001b[1;33m(\u001b[0m\u001b[1;34m'mutt but cute'\u001b[0m\u001b[1;33m,\u001b[0m \u001b[0mPaisley\u001b[0m\u001b[1;33m,\u001b[0m \u001b[1;34m'big fluffy'\u001b[0m\u001b[1;33m,\u001b[0m \u001b[1;36m8\u001b[0m\u001b[1;33m)\u001b[0m\u001b[1;33m\u001b[0m\u001b[1;33m\u001b[0m\u001b[0m\n\u001b[0m\u001b[0;32m     11\u001b[0m \u001b[1;33m\u001b[0m\u001b[0m\n\u001b[0;32m     12\u001b[0m \u001b[0mprint\u001b[0m\u001b[1;33m(\u001b[0m\u001b[0mpaisley\u001b[0m\u001b[1;33m)\u001b[0m\u001b[1;33m\u001b[0m\u001b[1;33m\u001b[0m\u001b[0m\n",
      "\u001b[1;31mNameError\u001b[0m: name 'Paisley' is not defined"
     ]
    }
   ],
   "source": [
    "# See Above\n",
    "\n",
    "class Dog:\n",
    "    def __init__(self, breed, tail, legs, name):\n",
    "        self.breed = breed\n",
    "        self.tail = tail\n",
    "        self.legs = legs\n",
    "        self.name = name\n",
    "        \n",
    "paisley = Dog('mutt but cute', Paisley, 'big fluffy', 8)\n",
    "\n",
    "print(paisley)\n",
    "print(paisley.name)\n",
    "print(paisley.legs)\n",
    "print(paisley.tail)\n",
    "\n",
    "paisley.__dict__\n",
    "\n",
    "\n",
    "\n",
    "\n",
    "\n",
    "\n",
    "class Car():\n",
    "    engine = \"4.7L\"\n",
    "    \n",
    "    # Create the constructor with a dynamic attribute AND a Default attribute\n",
    "    def __init__(self,wheels):\n",
    "        self.wheels = wheels\n",
    "        self.color = \"Blue\" # Default Attribute\n",
    "        \n",
    "honda = Car(4)\n",
    "jeep = Car(8)\n",
    "\n",
    "print(f\"Honda Wheels {honda.wheels} and Honda Color {honda.color}\")\n",
    "print(f\"Jeep Wheels {jeep.wheels} and Jeep Color {jeep.color}\")"
   ]
  },
  {
   "cell_type": "markdown",
   "metadata": {},
   "source": [
    "##### Changing Class Attributes <br>\n",
    "<p>Keep in mind there are global class attributes and then there are attributes only available to each class instance which won't effect other classes.</p>"
   ]
  },
  {
   "cell_type": "code",
   "execution_count": 28,
   "metadata": {},
   "outputs": [
    {
     "ename": "TypeError",
     "evalue": "__init__() missing 2 required positional arguments: 'legs' and 'name'",
     "output_type": "error",
     "traceback": [
      "\u001b[1;31m---------------------------------------------------------------------------\u001b[0m",
      "\u001b[1;31mTypeError\u001b[0m                                 Traceback (most recent call last)",
      "\u001b[1;32m<ipython-input-28-0033e1a2b76e>\u001b[0m in \u001b[0;36m<module>\u001b[1;34m\u001b[0m\n\u001b[0;32m      6\u001b[0m         \u001b[0mself\u001b[0m\u001b[1;33m.\u001b[0m\u001b[0mname\u001b[0m \u001b[1;33m=\u001b[0m \u001b[0mname\u001b[0m\u001b[1;33m\u001b[0m\u001b[1;33m\u001b[0m\u001b[0m\n\u001b[0;32m      7\u001b[0m \u001b[1;33m\u001b[0m\u001b[0m\n\u001b[1;32m----> 8\u001b[1;33m \u001b[0mnanuk\u001b[0m \u001b[1;33m=\u001b[0m \u001b[0mDog\u001b[0m\u001b[1;33m(\u001b[0m\u001b[1;34m'Siberian Husky'\u001b[0m\u001b[1;33m,\u001b[0m \u001b[1;34m'Nanuk'\u001b[0m\u001b[1;33m)\u001b[0m\u001b[1;33m\u001b[0m\u001b[1;33m\u001b[0m\u001b[0m\n\u001b[0m\u001b[0;32m      9\u001b[0m \u001b[0mprint\u001b[0m\u001b[1;33m(\u001b[0m\u001b[0mnanuk\u001b[0m\u001b[1;33m.\u001b[0m\u001b[0m__dict__\u001b[0m\u001b[1;33m)\u001b[0m\u001b[1;33m\u001b[0m\u001b[1;33m\u001b[0m\u001b[0m\n\u001b[0;32m     10\u001b[0m \u001b[1;33m\u001b[0m\u001b[0m\n",
      "\u001b[1;31mTypeError\u001b[0m: __init__() missing 2 required positional arguments: 'legs' and 'name'"
     ]
    }
   ],
   "source": [
    "class Dog:\n",
    "    def __init__(self, breed, tail, legs, name):\n",
    "        self.breed = breed\n",
    "        self.tail = tail\n",
    "        self.legs = legs\n",
    "        self.name = name\n",
    "\n",
    "nanuk = Dog('Siberian Husky', 'Nanuk')\n",
    "print(nanuk.__dict__)\n",
    "\n",
    "nanuk.tail = 'big and fluffy'\n",
    "print(nanuk.tail)\n",
    "print(nanuk.__dict__)"
   ]
  },
  {
   "cell_type": "markdown",
   "metadata": {},
   "source": [
    "##### In-Class Exercise #2 - Add a doors and seats attribute to your 'Car' class then print out two different instances with different values for doors and seats respectively"
   ]
  },
  {
   "cell_type": "code",
   "execution_count": 36,
   "metadata": {},
   "outputs": [
    {
     "name": "stdout",
     "output_type": "stream",
     "text": [
      "<__main__.Car object at 0x075E03B8> 2021 Ford Mustang has 4 seats and 2 doors\n"
     ]
    }
   ],
   "source": [
    "class Car:\n",
    "    wheels = 4\n",
    "    doors = 2\n",
    "    seats = 4\n",
    "    sunroof = True\n",
    "    make = 'Ford'\n",
    "    model = 'yes'\n",
    "    color = 'black'\n",
    "    year = 'whatever'\n",
    "    \n",
    "ford = Car()\n",
    "ford.make = 'Ford'\n",
    "ford.year = 2021\n",
    "ford.model = 'Mustang'\n",
    "ford.seats = '4 seats'\n",
    "ford.doors = '2 doors'\n",
    "\n",
    "print(f'{ford} {ford.year} {ford.make} {ford.model} has {ford.seats} and {ford.doors}')"
   ]
  },
  {
   "cell_type": "markdown",
   "metadata": {},
   "source": [
    "## Class Methods <br>\n",
    "<p>While inside of a class, functions are referred to as 'methods'. If you hear someone mention methods, they're speaking about classes. Methods are essentially functions, but only callable on the instances of a class.</p>"
   ]
  },
  {
   "cell_type": "markdown",
   "metadata": {},
   "source": [
    "##### Creating"
   ]
  },
  {
   "cell_type": "code",
   "execution_count": 38,
   "metadata": {},
   "outputs": [
    {
     "ename": "SyntaxError",
     "evalue": "EOL while scanning string literal (<ipython-input-38-e9749d71e4f4>, line 9)",
     "output_type": "error",
     "traceback": [
      "\u001b[1;36m  File \u001b[1;32m\"<ipython-input-38-e9749d71e4f4>\"\u001b[1;36m, line \u001b[1;32m9\u001b[0m\n\u001b[1;33m    print(f'You take (self.name) for a walk on his (self.legs). (self.name) is wagging his self.tail) tail because\u001b[0m\n\u001b[1;37m                                                                                                                   ^\u001b[0m\n\u001b[1;31mSyntaxError\u001b[0m\u001b[1;31m:\u001b[0m EOL while scanning string literal\n"
     ]
    }
   ],
   "source": [
    "class Dog:\n",
    "    def __init__(self, breed, name, tail=True, legs=4):\n",
    "        self.breed = breed\n",
    "        self.tail = tail\n",
    "        self.legs = legs\n",
    "        self.name = name\n",
    "        \n",
    "    def good_boy(self, minutes):\n",
    "        print(f'You take {self.name} for a walk on his {self.legs}. {self.name} is wagging his {self.tail} tail because) \n",
    "\n",
    "nanuk = Dog('Siberian Husky', 'Nanuk', 'big and fluffy')\n",
    "print(nanuk.__dict__)\n",
    "\n",
    "\n",
    "\n",
    "class ShoppingBag():\n",
    "    \"\"\"\n",
    "        The ShoppingBag class will have handles, a capacity, and items to place inside\n",
    "        - handles will be expected to be an integer\n",
    "        - capacity can be a string OR an integer\n",
    "        - items will be a list\n",
    "    \"\"\"\n",
    "    def __init__(self,handles,capacity,items):\n",
    "        self.handles = handles\n",
    "        self.capacity = capacity\n",
    "        self.items = items\n",
    "    # Create Method that shows the shoppingBag items\n",
    "    def showShoppingBag(self):\n",
    "        print(\"You Have items in your bag!!\")\n",
    "        for item in self.items:\n",
    "            print(item)\n",
    "            \n",
    "    # show capacity of ShoppingBag\n",
    "    def showCapacity(self):\n",
    "        print(f\"Your Capacity is {self.capacity}\")\n",
    "        \n",
    "    # add to items list with addToShoppingBag method\n",
    "    def addToShoppingBag(self):\n",
    "        products = input(\"What would you like to add?\")\n",
    "        self.items.append(products)\n",
    "        \n",
    "    # Changing the capacity of the ShoppingBag dynamically\n",
    "    def changeBagCapacity(self,capacity):\n",
    "        self.capacity = capacity\n",
    "        \n",
    "    # Increase the capacity of the ShoppingBag by 10\n",
    "    def increaseCapacity(self):\n",
    "        if self.capacity == isinstance(self.capacity,str):\n",
    "            print(\"We can't do that here boss...\")\n",
    "        else:\n",
    "            self.capacity += 10\n",
    "            \n",
    "wholeFoods_bag = ShoppingBag(2,10,[])\n",
    "\n",
    "# Create function to run the ShoppingBag(wholeFoods_bag) methods\n",
    "\n",
    "def run():\n",
    "    while True:\n",
    "        response = input(\"What do you want to do add/remove/show/clear or quit\")\n",
    "        \n",
    "        if response.lower() == 'quit':\n",
    "            wholeFoods_bag.showShoppingBag()\n",
    "            print(\"Thanks for shopping\")\n",
    "            break\n",
    "        if response.lower() == 'add':\n",
    "            wholeFoods_bag.addToShoppingBag()\n",
    "#     wholeFoods_bag.addToShoppingBag()\n",
    "#     wholeFoods_bag.showShoppingBag()\n",
    "    \n",
    "run()"
   ]
  },
  {
   "cell_type": "markdown",
   "metadata": {},
   "source": [
    "##### Calling"
   ]
  },
  {
   "cell_type": "code",
   "execution_count": 37,
   "metadata": {},
   "outputs": [
    {
     "ename": "AttributeError",
     "evalue": "'Dog' object has no attribute 'good_boy'",
     "output_type": "error",
     "traceback": [
      "\u001b[1;31m---------------------------------------------------------------------------\u001b[0m",
      "\u001b[1;31mAttributeError\u001b[0m                            Traceback (most recent call last)",
      "\u001b[1;32m<ipython-input-37-66e6581fa6d2>\u001b[0m in \u001b[0;36m<module>\u001b[1;34m\u001b[0m\n\u001b[0;32m      2\u001b[0m \u001b[1;31m# lets call the good_boy() method on nanuk\u001b[0m\u001b[1;33m\u001b[0m\u001b[1;33m\u001b[0m\u001b[1;33m\u001b[0m\u001b[0m\n\u001b[0;32m      3\u001b[0m \u001b[1;31m# best practice: instance_name.method_name(parameters)\u001b[0m\u001b[1;33m\u001b[0m\u001b[1;33m\u001b[0m\u001b[1;33m\u001b[0m\u001b[0m\n\u001b[1;32m----> 4\u001b[1;33m \u001b[0mnanuk\u001b[0m\u001b[1;33m.\u001b[0m\u001b[0mgood_boy\u001b[0m\u001b[1;33m(\u001b[0m\u001b[1;33m)\u001b[0m\u001b[1;33m\u001b[0m\u001b[1;33m\u001b[0m\u001b[0m\n\u001b[0m\u001b[0;32m      5\u001b[0m \u001b[1;33m\u001b[0m\u001b[0m\n\u001b[0;32m      6\u001b[0m \u001b[1;31m# just to illustrate that good_boy is a method belonging to the class Dog and nanuk takes the place of self\u001b[0m\u001b[1;33m\u001b[0m\u001b[1;33m\u001b[0m\u001b[1;33m\u001b[0m\u001b[0m\n",
      "\u001b[1;31mAttributeError\u001b[0m: 'Dog' object has no attribute 'good_boy'"
     ]
    }
   ],
   "source": [
    "# the block above defines our class including its methods and instantiates one dog, nanuk\n",
    "# lets call the good_boy() method on nanuk\n",
    "# best practice: instance_name.method_name(parameters)\n",
    "nanuk.good_boy()\n",
    "\n",
    "# just to illustrate that good_boy is a method belonging to the class Dog and nanuk takes the place of self\n",
    "Dog.good_boy(self=nanuk,minutes=47)\n",
    "\n",
    "\n",
    "\n",
    "\n",
    "# See Above\n",
    "wholeFoods_bag.addToShoppingBag()\n",
    "wholeFoods_bag.showShoppingBag()"
   ]
  },
  {
   "cell_type": "markdown",
   "metadata": {},
   "source": [
    "##### Modifying an Attribute's Value Through a Method"
   ]
  },
  {
   "cell_type": "code",
   "execution_count": 39,
   "metadata": {},
   "outputs": [
    {
     "ename": "SyntaxError",
     "evalue": "EOL while scanning string literal (<ipython-input-39-2929be8bd3f4>, line 9)",
     "output_type": "error",
     "traceback": [
      "\u001b[1;36m  File \u001b[1;32m\"<ipython-input-39-2929be8bd3f4>\"\u001b[1;36m, line \u001b[1;32m9\u001b[0m\n\u001b[1;33m    print(f'You take {self.name} for a walk on his {self.legs}. {self.name} is wagging his {self.tail} tail because)\u001b[0m\n\u001b[1;37m                                                                                                                     ^\u001b[0m\n\u001b[1;31mSyntaxError\u001b[0m\u001b[1;31m:\u001b[0m EOL while scanning string literal\n"
     ]
    }
   ],
   "source": [
    "class Dog:\n",
    "    def __init__(self, breed, name, tail=True, legs=4):\n",
    "        self.breed = breed\n",
    "        self.tail = tail\n",
    "        self.legs = legs\n",
    "        self.name = name\n",
    "        \n",
    "    def good_boy(self, minutes):\n",
    "        print(f'You take {self.name} for a walk on his {self.legs}. {self.name} is wagging his {self.tail} tail because) \n",
    "\n",
    "    def change_name(self, new_name):\n",
    "        print(f'You change {self.name}'s to {new_name}.\")\n",
    "        self.name = new_name\n",
    "        \n",
    "      \n",
    "nanuk = Dog('Siberian Husky', 'Nanuk', 'big and fluffy')\n",
    "print(nanuk.__dict__)\n",
    "              \n",
    "nanuk.change_name('Balto')\n",
    "\n",
    "\n",
    "\n",
    "\n",
    "\n",
    "\n",
    "\n",
    "# See changeBagCapacity method from above example for ShoppingBag\n",
    "wholeFoods_bag.showCapacity()\n",
    "print(\"Capacity AFTER the change....\")\n",
    "wholeFoods_bag.changeBagCapacity(40)\n",
    "wholeFoods_bag.showCapacity()"
   ]
  },
  {
   "cell_type": "markdown",
   "metadata": {},
   "source": [
    "##### Incrementing an Attribute's Value Through a Method"
   ]
  },
  {
   "cell_type": "code",
   "execution_count": 45,
   "metadata": {},
   "outputs": [
    {
     "name": "stdout",
     "output_type": "stream",
     "text": [
      "{'breed': 'Siberian Husky', 'tail': 'big and fluffy', 'legs': 4, 'name': 'Nanuk'}\n",
      "You change Nanuk's name to Balto.\n"
     ]
    }
   ],
   "source": [
    "# exact same idea as modifying the value\n",
    "#we're just talking about a numerical value and doing like +=1\n",
    "class Dog:\n",
    "    def __init__(self, breed, name, tail=True, legs=4):\n",
    "        self.breed = breed\n",
    "        self.tail = tail\n",
    "        self.legs = legs\n",
    "        self.name = name\n",
    "        \n",
    "    def good_boy(self, minutes):\n",
    "        print(f\"You take {self.name} for a walk on his {self.legs}. {self.name} is wagging his {self.tail} tail because\") \n",
    "\n",
    "    def change_name(self, new_name):\n",
    "        print(f\"You change {self.name}'s name to {new_name}.\")\n",
    "        self.name = new_name\n",
    "    \n",
    "      \n",
    "nanuk = Dog('Siberian Husky', 'Nanuk', 'big and fluffy')\n",
    "print(nanuk.__dict__)\n",
    "              \n",
    "nanuk.change_name('Balto')"
   ]
  },
  {
   "cell_type": "markdown",
   "metadata": {},
   "source": [
    "##### In-Class Exercise #3 - Add a method that takes in three parameters of year, doors and seats and prints out a formatted print statement with make, model, year, seats, and doors"
   ]
  },
  {
   "cell_type": "code",
   "execution_count": 55,
   "metadata": {},
   "outputs": [
    {
     "name": "stdout",
     "output_type": "stream",
     "text": [
      "2019 McLaren P1 have two door and 2 seat.\n"
     ]
    }
   ],
   "source": [
    "class Car:\n",
    "    # what attributes do I need? #5 of them - year, make, model, doors, seats\n",
    "    def __init__(self, year, make, model):\n",
    "        self.year = year\n",
    "        self.make = make\n",
    "        self.model = model\n",
    "        \n",
    "    def howmanydoor(self, doors, seats):\n",
    "        print(f'{self.year} {self.make} {self.model} have {doors} door and {seats} seat.')\n",
    "        \n",
    "mclaren = Car(2019, 'McLaren', 'P1')\n",
    "mclaren.__dict__\n",
    "\n",
    "mclaren.howmanydoor('two', 2)"
   ]
  },
  {
   "cell_type": "markdown",
   "metadata": {},
   "source": [
    "## Inheritance <br>\n",
    "<p>You can create a child-parent relationship between two classes by using inheritance. What this allows you to do is have overriding methods, but also inherit traits from the parent class. Think of it as an actual parent and child, the child will inherit the parent's genes, as will the classes in OOP</p>"
   ]
  },
  {
   "cell_type": "markdown",
   "metadata": {},
   "source": [
    "##### Syntax for Inheriting from a Parent Class"
   ]
  },
  {
   "cell_type": "code",
   "execution_count": 47,
   "metadata": {},
   "outputs": [
    {
     "name": "stdout",
     "output_type": "stream",
     "text": [
      "Buster\n",
      "Bark\n",
      "None\n",
      "The Dog has 15mph in speed and 9.8 in acceleration\n",
      "Lassie\n",
      "Help on class Mut in module __main__:\n",
      "\n",
      "class Mut(Dog)\n",
      " |  Mut(name, species, color, legs=4)\n",
      " |  \n",
      " |  Method resolution order:\n",
      " |      Mut\n",
      " |      Dog\n",
      " |      Animal\n",
      " |      builtins.object\n",
      " |  \n",
      " |  Methods defined here:\n",
      " |  \n",
      " |  __init__(self, name, species, color, legs=4)\n",
      " |      Initialize self.  See help(type(self)) for accurate signature.\n",
      " |  \n",
      " |  makeSound(self)\n",
      " |  \n",
      " |  ----------------------------------------------------------------------\n",
      " |  Data and other attributes defined here:\n",
      " |  \n",
      " |  color = 'black & brown'\n",
      " |  \n",
      " |  ----------------------------------------------------------------------\n",
      " |  Methods inherited from Dog:\n",
      " |  \n",
      " |  printInfo(self)\n",
      " |  \n",
      " |  ----------------------------------------------------------------------\n",
      " |  Data and other attributes inherited from Dog:\n",
      " |  \n",
      " |  speed = 15\n",
      " |  \n",
      " |  ----------------------------------------------------------------------\n",
      " |  Data descriptors inherited from Animal:\n",
      " |  \n",
      " |  __dict__\n",
      " |      dictionary for instance variables (if defined)\n",
      " |  \n",
      " |  __weakref__\n",
      " |      list of weak references to the object (if defined)\n",
      " |  \n",
      " |  ----------------------------------------------------------------------\n",
      " |  Data and other attributes inherited from Animal:\n",
      " |  \n",
      " |  acceleration = 9.8\n",
      "\n"
     ]
    }
   ],
   "source": [
    "# Creation of Parent Class\n",
    "class Animal():\n",
    "    acceleration = 9.8\n",
    "    \n",
    "    def __init__(self,name,species,legs=4):\n",
    "        self.name = name\n",
    "        self.species = species\n",
    "        self.legs = legs\n",
    "        \n",
    "    def makeSound(self):\n",
    "        print(\"Some Generic Sound\")\n",
    "        \n",
    "# Creation of Child Class\n",
    "class Dog(Animal):\n",
    "    speed = 15\n",
    "    \n",
    "    def printInfo(self):\n",
    "        print(f\"The Dog has {self.speed}mph in speed and {self.acceleration} in acceleration\")\n",
    "\n",
    "        \n",
    "        \n",
    "class Mut(Dog):\n",
    "    color = 'black & brown'\n",
    "    \n",
    "    # Constructor Overide inside of child inheritance\n",
    "    def __init__(self,name,species,color,legs=4):\n",
    "        Dog.__init__(self,name,species,legs)\n",
    "        self.color = color\n",
    "    \n",
    "    def makeSound(self):\n",
    "        print(\"Bark\")\n",
    "        \n",
    "lassie = Dog(\"Lassie\",\"Dog\")\n",
    "buster = Mut(\"Buster\",\"Mut\",\"black\")\n",
    "print(buster.name)\n",
    "print(buster.makeSound())\n",
    "lassie.printInfo()\n",
    "print(lassie.name)\n",
    "\n",
    "help(Mut)"
   ]
  },
  {
   "cell_type": "markdown",
   "metadata": {},
   "source": [
    "##### The \\__init\\__() Method for a Child Class - super()"
   ]
  },
  {
   "cell_type": "code",
   "execution_count": 49,
   "metadata": {
    "scrolled": true
   },
   "outputs": [
    {
     "name": "stdout",
     "output_type": "stream",
     "text": [
      "Buster\n",
      "Bark\n",
      "None\n",
      "The Dog has 15mph in speed and 9.8 in acceleration\n",
      "Lassie\n"
     ]
    }
   ],
   "source": [
    "# Creation of Parent Class\n",
    "class Animal():\n",
    "    acceleration = 9.8\n",
    "    \n",
    "    def __init__(self,name,species,legs=4):\n",
    "        self.name = name\n",
    "        self.species = species\n",
    "        self.legs = legs\n",
    "        \n",
    "    def makeSound(self):\n",
    "        print(\"Some Generic Sound\")\n",
    "        \n",
    "# Creation of Child Class\n",
    "class Dog(Animal):\n",
    "    speed = 15\n",
    "    \n",
    "    def printInfo(self):\n",
    "        print(f\"The Dog has {self.speed}mph in speed and {self.acceleration} in acceleration\")\n",
    "\n",
    "        \n",
    "#class ChildClass(GrandParentClass, ParentClass)\n",
    "class Mut(Dog):\n",
    "    color = 'black & brown'\n",
    "    \n",
    "    # Constructor Overide inside of child inheritance\n",
    "    def __init__(self,name,species,color,legs=4):\n",
    "        super().__init__(name,species,legs)\n",
    "        self.color = color\n",
    "    \n",
    "    def makeSound(self):\n",
    "        print(\"Bark\")\n",
    "        \n",
    "lassie = Dog(\"Lassie\",\"Dog\")\n",
    "buster = Mut(\"Buster\",\"Mut\",\"black\")\n",
    "print(buster.name)\n",
    "print(buster.makeSound())\n",
    "lassie.printInfo()\n",
    "print(lassie.name)\n",
    "\n"
   ]
  },
  {
   "cell_type": "markdown",
   "metadata": {},
   "source": [
    "##### Defining Attributes and Methods for the Child Class"
   ]
  },
  {
   "cell_type": "code",
   "execution_count": null,
   "metadata": {},
   "outputs": [],
   "source": [
    "# See Above"
   ]
  },
  {
   "cell_type": "markdown",
   "metadata": {},
   "source": [
    "##### Method Overriding"
   ]
  },
  {
   "cell_type": "code",
   "execution_count": null,
   "metadata": {},
   "outputs": [],
   "source": [
    "# See Above"
   ]
  },
  {
   "cell_type": "markdown",
   "metadata": {},
   "source": [
    "## Classes as Attributes <br>\n",
    "<p>Classes can also be used as attributes within another class. This is useful in situations where you need to keep variables locally stored, instead of globally stored.</p>"
   ]
  },
  {
   "cell_type": "code",
   "execution_count": 50,
   "metadata": {},
   "outputs": [
    {
     "name": "stdout",
     "output_type": "stream",
     "text": [
      "20\n"
     ]
    }
   ],
   "source": [
    "class Battery():\n",
    "    volts = 7.8\n",
    "    \n",
    "    def __init__(self,cells):\n",
    "        self.cells = cells\n",
    "        \n",
    "class Car():\n",
    "    def __init__(self,year,make,model,battery):\n",
    "        self.year = year\n",
    "        self.make = make\n",
    "        self.model = model\n",
    "        self.battery = battery\n",
    "        \n",
    "    def printInfo(self):\n",
    "        print(self.year, self.make,self.model,self.battery)\n",
    "        \n",
    "battery = Battery(20)\n",
    "\n",
    "tesla = Car(2019,\"Tesla\", \"Model X\", battery)\n",
    "\n",
    "print(tesla.battery.cells)"
   ]
  },
  {
   "cell_type": "markdown",
   "metadata": {},
   "source": [
    "# Exercises"
   ]
  },
  {
   "cell_type": "markdown",
   "metadata": {},
   "source": [
    "### Exercise 1 - Turn the shopping cart program from yesterday into an object-oriented program\n"
   ]
  },
  {
   "cell_type": "code",
   "execution_count": 128,
   "metadata": {},
   "outputs": [],
   "source": [
    "from IPython.display import clear_output\n",
    "# Ask the user four bits of input: Do you want to : Show/Add/Delete or Quit?\n",
    "# setup\n",
    "# i need something to be my cart - a list\n",
    "class cart():\n",
    "# i need to ask user what to do\n",
    "# controlling loop\n",
    "    while True:\n",
    "        choice = input('What would you like to do? show/add/delete or quit? ').lower()\n",
    "        def __init__(self, list = []):\n",
    "                self.list = list\n",
    "        def add(self, item):\n",
    "            if choice == 'add':\n",
    "                item = input('What item would you like to buy? ').title()\n",
    "                cart.append(item)\n",
    "                print(f'You add {item} to your cart.')\n",
    "                input(f'Your cart now contains: {cart}.\\nPress any key to continue.')\n",
    "        def delete(self, item):\n",
    "            if choice == 'delete':\n",
    "                removal = input(f'Okay, here is your cart: {cart}\\nWhat would you like to remove?\\n').title()\n",
    "                # i need to check if the thing is in my cart before I try to remove it\n",
    "                # membership check\n",
    "                if removal in cart:\n",
    "                    cart.remove(removal)\n",
    "                    input(f'{removal} has been removed from your cart.\\nPress any key to continue.')\n",
    "                else:\n",
    "                    input(f'{removal} is not in your cart. Nothing to remove.\\nPress any key to continue.')\n",
    "        def show(self, item):\n",
    "            if choice == 'show':\n",
    "                input(f'Okay, here is your cart: {cart}\\nPress any key to continue.')\n",
    "        def quit(self):\n",
    "            if choice == 'quit':\n",
    "                print(f\"Thanks for 'shopping'. You run out of the zoo holding your captured animals: {cart}\")\n",
    "\n",
    "\n",
    "    \n"
   ]
  },
  {
   "cell_type": "code",
   "execution_count": null,
   "metadata": {},
   "outputs": [],
   "source": [
    "class Cart():\n",
    "    def __init__(self, list = []):\n",
    "        self.list = list\n",
    "    def add(self):\n",
    "        if item is\n",
    "    def remove(self):\n",
    "        pass\n",
    "    def show(self):\n",
    "        pass\n",
    "# instantiation of your cart object\n",
    "mycart = Cart() # blah blah whatever parameters you need\n",
    "while True:\n",
    "    #asking for user input\n",
    "    # if the user says add\n",
    "    if 'add':\n",
    "        item_to_add = 'what am I adding?'\n",
    "        mycart.add(item_to_add)"
   ]
  },
  {
   "cell_type": "code",
   "execution_count": null,
   "metadata": {},
   "outputs": [],
   "source": [
    "# Create a class called cart that retains items and has methods to add, remove, and show\n",
    "# cart class has an attribute of a cart list\n",
    "# cart class has methods\n",
    "    # one for adding\n",
    "    # one for removing\n",
    "    # one for showing\n",
    "    # and one for checkout maybe?\n",
    "#extra:\n",
    "    # adding a second class of items\n",
    "    # where each item you add to the cart is an object with a name, price, and whatever other attribute you want\n",
    "\n",
    "    \n",
    "class Cart():\n",
    "    def __init__(self, list = []):\n",
    "        self.list = list\n",
    "    def add(self):\n",
    "        if item is\n",
    "    def remove(self):\n",
    "        pass\n",
    "    def show(self):\n",
    "        pass\n",
    "# instantiation of your cart object\n",
    "mycart = Cart() # blah blah whatever parameters you need\n",
    "while True:\n",
    "    #asking for user input\n",
    "    # if the user says add\n",
    "    if 'add':\n",
    "        item_to_add = 'what am I adding?'\n",
    "        mycart.add(item_to_add)"
   ]
  },
  {
   "cell_type": "markdown",
   "metadata": {},
   "source": [
    "### Exercise 2 - Write a Python class which has two methods get_String and print_String. get_String accept a string from the user and print_String print the string in upper case"
   ]
  },
  {
   "cell_type": "code",
   "execution_count": null,
   "metadata": {},
   "outputs": [],
   "source": [
    "class car()\n",
    "def __init__(self, make, model):\n",
    "    self.get_str = get\n",
    "    self.make = make\n",
    "    self.model = model\n",
    "\n",
    "\n",
    "def pr_str(self, make, model):\n",
    "    self.pr_str = print1\n",
    "    self.make = make\n",
    "    self.model = model\n",
    "\n"
   ]
  },
  {
   "cell_type": "code",
   "execution_count": null,
   "metadata": {},
   "outputs": [],
   "source": []
  },
  {
   "cell_type": "code",
   "execution_count": null,
   "metadata": {},
   "outputs": [],
   "source": []
  }
 ],
 "metadata": {
  "kernelspec": {
   "display_name": "Python 3",
   "language": "python",
   "name": "python3"
  },
  "language_info": {
   "codemirror_mode": {
    "name": "ipython",
    "version": 3
   },
   "file_extension": ".py",
   "mimetype": "text/x-python",
   "name": "python",
   "nbconvert_exporter": "python",
   "pygments_lexer": "ipython3",
   "version": "3.8.8"
  }
 },
 "nbformat": 4,
 "nbformat_minor": 2
}
